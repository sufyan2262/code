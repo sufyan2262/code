{
  "cells": [
    {
      "cell_type": "code",
      "source": [
        "# Step 1: Import required libraries\n",
        "from sklearn.ensemble import RandomForestRegressor\n",
        "from sklearn.model_selection import RandomizedSearchCV\n",
        "import numpy as np\n",
        "import pandas as pd\n",
        "\n",
        "# Step 2: Load the dataset\n",
        "file_path = 'data.csv'\n",
        "df = pd.read_csv(file_path)\n",
        "\n",
        "# Step 3: Split data into features (X) and target (Y)\n",
        "Y_COLS = ['MMT', 'CNF', 'Gelatin', 'Glycerol']\n",
        "X_COLS = ['TransVis', 'RR', 'TensileStrength']\n",
        "\n",
        "# Split the dataset into training and testing sets (e.g., 80% train, 20% test)\n",
        "train_size = int(0.8 * len(df))\n",
        "df_train = df.iloc[:train_size]\n",
        "df_test = df.iloc[train_size:]\n",
        "\n",
        "X_train = df_train[X_COLS]  # Training input features\n",
        "Y_train = df_train[Y_COLS]  # Training target variables\n",
        "\n",
        "X_test = df_test[X_COLS]    # Testing input features\n",
        "Y_test = df_test[Y_COLS]    # Testing target variables\n",
        "\n",
        "# Step 4: Define hyperparameter search space\n",
        "param_dist = {\n",
        "    'n_estimators': [100, 200, 300],\n",
        "    'max_depth': [10, 20, None],\n",
        "    'min_samples_split': [2, 5],\n",
        "    'min_samples_leaf': [1, 2],\n",
        "    'bootstrap': [True, False]\n",
        "}\n",
        "\n",
        "# Step 5: Perform hyperparameter tuning with RandomizedSearchCV\n",
        "best_params = {}\n",
        "rf_models = {}\n",
        "\n",
        "for target in Y_COLS:\n",
        "    rf = RandomForestRegressor(random_state=42)\n",
        "    random_search = RandomizedSearchCV(estimator=rf, param_distributions=param_dist, n_iter=10, cv=3, n_jobs=-1, verbose=1, random_state=42)\n",
        "    random_search.fit(X_train, Y_train[target])\n",
        "    best_params[target] = random_search.best_params_\n",
        "\n",
        "    # Train the best model\n",
        "    rf_best = RandomForestRegressor(**best_params[target], random_state=42)\n",
        "    rf_best.fit(X_train, Y_train[target])\n",
        "    rf_models[target] = rf_best\n",
        "\n",
        "# Step 6: Make predictions on the test set\n",
        "predictions = {}\n",
        "for target in Y_COLS:\n",
        "    predictions[target] = rf_models[target].predict(X_test)\n",
        "\n",
        "# Step 7: Calculate the combined Mean Relative Error (MRE) and Accuracy\n",
        "\n",
        "# Combine all true and predicted values for MRE calculation\n",
        "Y_test_combined = np.hstack([Y_test[target].values for target in Y_COLS])\n",
        "predictions_combined = np.hstack([predictions[target] for target in Y_COLS])\n",
        "\n",
        "# Calculate Mean Relative Error (MRE)\n",
        "def mean_relative_error(y_true, y_pred):\n",
        "    return np.mean(np.abs((y_true - y_pred) / y_true))\n",
        "\n",
        "overall_mre = mean_relative_error(Y_test_combined, predictions_combined)\n",
        "\n",
        "# Calculate Accuracy\n",
        "threshold = 0.1  # 10% tolerance\n",
        "overall_accuracy = np.mean(np.abs((Y_test_combined - predictions_combined) / Y_test_combined) < threshold)\n",
        "\n",
        "# Step 8: Display the results\n",
        "print(\"Best Parameters for each target variable:\")\n",
        "for target in Y_COLS:\n",
        "    print(f\"{target}: {best_params[target]}\")\n",
        "\n",
        "\n",
        "print(f\"Overall Accuracy: {overall_accuracy * 100:.2f}%\")"
      ],
      "metadata": {
        "colab": {
          "base_uri": "https://localhost:8080/"
        },
        "id": "zWqRtBj_HmHC",
        "outputId": "4cbb6bb5-6aa8-40ad-d108-49ef73e85b2d"
      },
      "execution_count": 2,
      "outputs": [
        {
          "output_type": "stream",
          "name": "stdout",
          "text": [
            "Fitting 3 folds for each of 10 candidates, totalling 30 fits\n"
          ]
        },
        {
          "output_type": "stream",
          "name": "stderr",
          "text": [
            "/usr/local/lib/python3.10/dist-packages/numpy/ma/core.py:2820: RuntimeWarning: invalid value encountered in cast\n",
            "  _data = np.array(data, dtype=dtype, copy=copy,\n"
          ]
        },
        {
          "output_type": "stream",
          "name": "stdout",
          "text": [
            "Fitting 3 folds for each of 10 candidates, totalling 30 fits\n",
            "Fitting 3 folds for each of 10 candidates, totalling 30 fits\n",
            "Fitting 3 folds for each of 10 candidates, totalling 30 fits\n",
            "Best Parameters for each target variable:\n",
            "MMT: {'n_estimators': 100, 'min_samples_split': 2, 'min_samples_leaf': 1, 'max_depth': 20, 'bootstrap': True}\n",
            "CNF: {'n_estimators': 100, 'min_samples_split': 2, 'min_samples_leaf': 1, 'max_depth': 20, 'bootstrap': True}\n",
            "Gelatin: {'n_estimators': 100, 'min_samples_split': 2, 'min_samples_leaf': 1, 'max_depth': 20, 'bootstrap': True}\n",
            "Glycerol: {'n_estimators': 200, 'min_samples_split': 5, 'min_samples_leaf': 1, 'max_depth': None, 'bootstrap': True}\n",
            "Overall Accuracy: 92.73%\n"
          ]
        }
      ]
    },
    {
      "cell_type": "code",
      "source": [
        "# ---------------------------------------\n",
        "# New Step: Predict material ratios for given properties\n",
        "# ---------------------------------------\n",
        "\n",
        "# Function to predict using trained models\n",
        "def predict_material_ratios(new_data):\n",
        "    # Create a DataFrame with the new input data\n",
        "    new_input_df = pd.DataFrame([new_data], columns=X_COLS)\n",
        "\n",
        "    # Predict output values for the given input\n",
        "    new_predictions = {}\n",
        "    for target in Y_COLS:\n",
        "        new_predictions[target] = rf_models[target].predict(new_input_df)[0]\n",
        "\n",
        "    return new_predictions\n",
        "\n",
        "# Take input from the user\n",
        "def get_input_from_user():\n",
        "    print(\"Please enter the values for the following properties:\")\n",
        "    trans_vis = float(input(\"TransVis: \"))\n",
        "    rr = float(input(\"RR: \"))\n",
        "    tensile_strength = float(input(\"TensileStrength: \"))\n",
        "\n",
        "    return {\n",
        "        'TransVis': trans_vis,\n",
        "        'RR': rr,\n",
        "        'TensileStrength': tensile_strength\n",
        "    }\n",
        "\n",
        "# Get input data from user\n",
        "new_input_data = get_input_from_user()\n",
        "\n",
        "# Predict the material ratios\n",
        "predicted_ratios = predict_material_ratios(new_input_data)\n",
        "\n",
        "# Display the predictions\n",
        "print(f\"\\nPredicted Material Ratios for the given properties:\")\n",
        "print(f\"MMT: {predicted_ratios['MMT']:.4f}\")\n",
        "print(f\"CNF: {predicted_ratios['CNF']:.4f}\")\n",
        "print(f\"Gelatin: {predicted_ratios['Gelatin']:.4f}\")\n",
        "print(f\"Glycerol: {predicted_ratios['Glycerol']:.4f}\")\n"
      ],
      "metadata": {
        "colab": {
          "base_uri": "https://localhost:8080/"
        },
        "id": "2b_m9xUGIypZ",
        "outputId": "ec20fe77-e42f-41bf-84de-e78f9f327a22"
      },
      "execution_count": null,
      "outputs": [
        {
          "output_type": "stream",
          "name": "stdout",
          "text": [
            "Please enter the values for the following properties:\n",
            "TransVis: 75\n",
            "RR: 0.7\n",
            "TensileStrength: 100\n",
            "\n",
            "Predicted Material Ratios for the given properties:\n",
            "MMT: 33.9276\n",
            "CNF: 37.7657\n",
            "Gelatin: 11.6184\n",
            "Glycerol: 15.2128\n"
          ]
        }
      ]
    },
    {
      "cell_type": "code",
      "source": [
        "0"
      ],
      "metadata": {
        "id": "hdOOSSTIRMg4"
      },
      "execution_count": null,
      "outputs": []
    }
  ],
  "metadata": {
    "colab": {
      "provenance": []
    },
    "kernelspec": {
      "display_name": "Python 3",
      "name": "python3"
    }
  },
  "nbformat": 4,
  "nbformat_minor": 0
}